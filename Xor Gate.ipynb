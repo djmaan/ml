{
 "cells": [
  {
   "cell_type": "code",
   "execution_count": 2,
   "metadata": {},
   "outputs": [],
   "source": [
    "import tensorflow as tf\n",
    "import numpy as np\n",
    "from keras.models import Sequential\n",
    "from keras.layers.core import Dense\n",
    "from warnings import filterwarnings\n",
    "filterwarnings(\"ignore\")\n",
    "import os\n",
    "os.environ['TF_CPP_MIN_LOG_LEVEL'] = '3'"
   ]
  },
  {
   "cell_type": "markdown",
   "metadata": {},
   "source": [
    "# Define Our Datasets"
   ]
  },
  {
   "cell_type": "code",
   "execution_count": 3,
   "metadata": {},
   "outputs": [],
   "source": [
    "# the four different states of the xor gate\n",
    "training_data = np.array([[0,0],[0,1],[1,0],[1,1]],\"float32\")\n",
    "\n",
    "# the four expected results in the same order\n",
    "target_data = np.array([[0],[1],[1],[0]],\"float32\")"
   ]
  },
  {
   "cell_type": "markdown",
   "metadata": {},
   "source": [
    "# Create Our Model"
   ]
  },
  {
   "cell_type": "code",
   "execution_count": 4,
   "metadata": {},
   "outputs": [],
   "source": [
    "model = Sequential()\n",
    "model.add(Dense(16, input_dim=2, activation='relu'))\n",
    "model.add(Dense(1,activation='sigmoid'))"
   ]
  },
  {
   "cell_type": "markdown",
   "metadata": {},
   "source": [
    "# Compile Model"
   ]
  },
  {
   "cell_type": "code",
   "execution_count": 5,
   "metadata": {},
   "outputs": [],
   "source": [
    "model.compile(loss='mean_squared_error',\n",
    "              optimizer='adam',\n",
    "              metrics=['binary_accuracy'])"
   ]
  },
  {
   "cell_type": "code",
   "execution_count": 6,
   "metadata": {},
   "outputs": [
    {
     "name": "stdout",
     "output_type": "stream",
     "text": [
      "WARNING:tensorflow:From /usr/local/lib/python3.7/dist-packages/keras/backend/tensorflow_backend.py:422: The name tf.global_variables is deprecated. Please use tf.compat.v1.global_variables instead.\n",
      "\n",
      "Epoch 1/100\n",
      "4/4 [==============================] - 0s 22ms/step - loss: 0.2510 - binary_accuracy: 0.5000\n",
      "Epoch 2/100\n",
      "4/4 [==============================] - 0s 237us/step - loss: 0.2504 - binary_accuracy: 0.2500\n",
      "Epoch 3/100\n",
      "4/4 [==============================] - 0s 216us/step - loss: 0.2499 - binary_accuracy: 0.2500\n",
      "Epoch 4/100\n",
      "4/4 [==============================] - 0s 654us/step - loss: 0.2493 - binary_accuracy: 0.2500\n",
      "Epoch 5/100\n",
      "4/4 [==============================] - 0s 638us/step - loss: 0.2488 - binary_accuracy: 0.2500\n",
      "Epoch 6/100\n",
      "4/4 [==============================] - 0s 446us/step - loss: 0.2482 - binary_accuracy: 0.2500\n",
      "Epoch 7/100\n",
      "4/4 [==============================] - 0s 636us/step - loss: 0.2477 - binary_accuracy: 0.2500\n",
      "Epoch 8/100\n",
      "4/4 [==============================] - 0s 616us/step - loss: 0.2472 - binary_accuracy: 0.2500\n",
      "Epoch 9/100\n",
      "4/4 [==============================] - 0s 1ms/step - loss: 0.2467 - binary_accuracy: 0.2500\n",
      "Epoch 10/100\n",
      "4/4 [==============================] - 0s 618us/step - loss: 0.2461 - binary_accuracy: 0.2500\n",
      "Epoch 11/100\n",
      "4/4 [==============================] - 0s 414us/step - loss: 0.2456 - binary_accuracy: 0.2500\n",
      "Epoch 12/100\n",
      "4/4 [==============================] - 0s 1ms/step - loss: 0.2451 - binary_accuracy: 0.2500\n",
      "Epoch 13/100\n",
      "4/4 [==============================] - 0s 664us/step - loss: 0.2446 - binary_accuracy: 0.2500\n",
      "Epoch 14/100\n",
      "4/4 [==============================] - 0s 961us/step - loss: 0.2441 - binary_accuracy: 0.2500\n",
      "Epoch 15/100\n",
      "4/4 [==============================] - 0s 634us/step - loss: 0.2436 - binary_accuracy: 0.2500\n",
      "Epoch 16/100\n",
      "4/4 [==============================] - 0s 750us/step - loss: 0.2431 - binary_accuracy: 0.2500\n",
      "Epoch 17/100\n",
      "4/4 [==============================] - 0s 805us/step - loss: 0.2426 - binary_accuracy: 0.2500\n",
      "Epoch 18/100\n",
      "4/4 [==============================] - 0s 660us/step - loss: 0.2422 - binary_accuracy: 0.2500\n",
      "Epoch 19/100\n",
      "4/4 [==============================] - 0s 466us/step - loss: 0.2417 - binary_accuracy: 0.2500\n",
      "Epoch 20/100\n",
      "4/4 [==============================] - 0s 369us/step - loss: 0.2412 - binary_accuracy: 0.5000\n",
      "Epoch 21/100\n",
      "4/4 [==============================] - 0s 389us/step - loss: 0.2408 - binary_accuracy: 0.5000\n",
      "Epoch 22/100\n",
      "4/4 [==============================] - 0s 548us/step - loss: 0.2403 - binary_accuracy: 0.5000\n",
      "Epoch 23/100\n",
      "4/4 [==============================] - 0s 605us/step - loss: 0.2399 - binary_accuracy: 0.5000\n",
      "Epoch 24/100\n",
      "4/4 [==============================] - 0s 312us/step - loss: 0.2395 - binary_accuracy: 0.5000\n",
      "Epoch 25/100\n",
      "4/4 [==============================] - 0s 263us/step - loss: 0.2390 - binary_accuracy: 0.5000\n",
      "Epoch 26/100\n",
      "4/4 [==============================] - 0s 292us/step - loss: 0.2386 - binary_accuracy: 0.5000\n",
      "Epoch 27/100\n",
      "4/4 [==============================] - 0s 261us/step - loss: 0.2381 - binary_accuracy: 0.5000\n",
      "Epoch 28/100\n",
      "4/4 [==============================] - 0s 353us/step - loss: 0.2377 - binary_accuracy: 0.5000\n",
      "Epoch 29/100\n",
      "4/4 [==============================] - 0s 311us/step - loss: 0.2373 - binary_accuracy: 0.5000\n",
      "Epoch 30/100\n",
      "4/4 [==============================] - 0s 371us/step - loss: 0.2369 - binary_accuracy: 0.5000\n",
      "Epoch 31/100\n",
      "4/4 [==============================] - 0s 391us/step - loss: 0.2364 - binary_accuracy: 0.5000\n",
      "Epoch 32/100\n",
      "4/4 [==============================] - 0s 2ms/step - loss: 0.2360 - binary_accuracy: 0.5000\n",
      "Epoch 33/100\n",
      "4/4 [==============================] - 0s 290us/step - loss: 0.2356 - binary_accuracy: 0.5000\n",
      "Epoch 34/100\n",
      "4/4 [==============================] - 0s 490us/step - loss: 0.2352 - binary_accuracy: 0.5000\n",
      "Epoch 35/100\n",
      "4/4 [==============================] - 0s 671us/step - loss: 0.2348 - binary_accuracy: 0.5000\n",
      "Epoch 36/100\n",
      "4/4 [==============================] - 0s 298us/step - loss: 0.2344 - binary_accuracy: 0.5000\n",
      "Epoch 37/100\n",
      "4/4 [==============================] - 0s 283us/step - loss: 0.2340 - binary_accuracy: 0.5000\n",
      "Epoch 38/100\n",
      "4/4 [==============================] - 0s 417us/step - loss: 0.2336 - binary_accuracy: 0.5000\n",
      "Epoch 39/100\n",
      "4/4 [==============================] - 0s 365us/step - loss: 0.2332 - binary_accuracy: 0.5000\n",
      "Epoch 40/100\n",
      "4/4 [==============================] - 0s 537us/step - loss: 0.2328 - binary_accuracy: 0.5000\n",
      "Epoch 41/100\n",
      "4/4 [==============================] - 0s 549us/step - loss: 0.2325 - binary_accuracy: 0.5000\n",
      "Epoch 42/100\n",
      "4/4 [==============================] - 0s 664us/step - loss: 0.2321 - binary_accuracy: 0.5000\n",
      "Epoch 43/100\n",
      "4/4 [==============================] - 0s 633us/step - loss: 0.2317 - binary_accuracy: 0.5000\n",
      "Epoch 44/100\n",
      "4/4 [==============================] - 0s 547us/step - loss: 0.2313 - binary_accuracy: 0.5000\n",
      "Epoch 45/100\n",
      "4/4 [==============================] - 0s 533us/step - loss: 0.2309 - binary_accuracy: 0.5000\n",
      "Epoch 46/100\n",
      "4/4 [==============================] - 0s 550us/step - loss: 0.2306 - binary_accuracy: 0.5000\n",
      "Epoch 47/100\n",
      "4/4 [==============================] - 0s 578us/step - loss: 0.2302 - binary_accuracy: 0.5000\n",
      "Epoch 48/100\n",
      "4/4 [==============================] - 0s 514us/step - loss: 0.2298 - binary_accuracy: 0.5000\n",
      "Epoch 49/100\n",
      "4/4 [==============================] - 0s 768us/step - loss: 0.2295 - binary_accuracy: 0.5000\n",
      "Epoch 50/100\n",
      "4/4 [==============================] - 0s 405us/step - loss: 0.2291 - binary_accuracy: 0.5000\n",
      "Epoch 51/100\n",
      "4/4 [==============================] - 0s 536us/step - loss: 0.2287 - binary_accuracy: 0.5000\n",
      "Epoch 52/100\n",
      "4/4 [==============================] - 0s 524us/step - loss: 0.2284 - binary_accuracy: 0.5000\n",
      "Epoch 53/100\n",
      "4/4 [==============================] - 0s 328us/step - loss: 0.2280 - binary_accuracy: 0.5000\n",
      "Epoch 54/100\n",
      "4/4 [==============================] - 0s 279us/step - loss: 0.2277 - binary_accuracy: 0.5000\n",
      "Epoch 55/100\n",
      "4/4 [==============================] - 0s 302us/step - loss: 0.2273 - binary_accuracy: 0.5000\n",
      "Epoch 56/100\n",
      "4/4 [==============================] - 0s 665us/step - loss: 0.2269 - binary_accuracy: 0.5000\n",
      "Epoch 57/100\n",
      "4/4 [==============================] - 0s 512us/step - loss: 0.2266 - binary_accuracy: 0.5000\n",
      "Epoch 58/100\n",
      "4/4 [==============================] - 0s 317us/step - loss: 0.2263 - binary_accuracy: 0.5000\n",
      "Epoch 59/100\n",
      "4/4 [==============================] - 0s 367us/step - loss: 0.2259 - binary_accuracy: 0.5000\n",
      "Epoch 60/100\n",
      "4/4 [==============================] - 0s 333us/step - loss: 0.2255 - binary_accuracy: 0.5000\n",
      "Epoch 61/100\n",
      "4/4 [==============================] - 0s 297us/step - loss: 0.2252 - binary_accuracy: 0.5000\n",
      "Epoch 62/100\n",
      "4/4 [==============================] - 0s 279us/step - loss: 0.2248 - binary_accuracy: 0.5000\n",
      "Epoch 63/100\n",
      "4/4 [==============================] - 0s 287us/step - loss: 0.2245 - binary_accuracy: 0.5000\n",
      "Epoch 64/100\n",
      "4/4 [==============================] - 0s 305us/step - loss: 0.2241 - binary_accuracy: 0.5000\n",
      "Epoch 65/100\n",
      "4/4 [==============================] - 0s 523us/step - loss: 0.2238 - binary_accuracy: 0.5000\n",
      "Epoch 66/100\n",
      "4/4 [==============================] - 0s 269us/step - loss: 0.2234 - binary_accuracy: 0.5000\n",
      "Epoch 67/100\n",
      "4/4 [==============================] - 0s 369us/step - loss: 0.2231 - binary_accuracy: 0.5000\n",
      "Epoch 68/100\n",
      "4/4 [==============================] - 0s 818us/step - loss: 0.2227 - binary_accuracy: 0.5000\n",
      "Epoch 69/100\n",
      "4/4 [==============================] - 0s 487us/step - loss: 0.2224 - binary_accuracy: 0.5000\n",
      "Epoch 70/100\n",
      "4/4 [==============================] - 0s 471us/step - loss: 0.2220 - binary_accuracy: 0.5000\n",
      "Epoch 71/100\n",
      "4/4 [==============================] - 0s 353us/step - loss: 0.2217 - binary_accuracy: 0.5000\n",
      "Epoch 72/100\n",
      "4/4 [==============================] - 0s 488us/step - loss: 0.2213 - binary_accuracy: 0.5000\n",
      "Epoch 73/100\n",
      "4/4 [==============================] - 0s 574us/step - loss: 0.2210 - binary_accuracy: 0.5000\n",
      "Epoch 74/100\n",
      "4/4 [==============================] - 0s 584us/step - loss: 0.2206 - binary_accuracy: 0.5000\n",
      "Epoch 75/100\n",
      "4/4 [==============================] - 0s 309us/step - loss: 0.2203 - binary_accuracy: 0.7500\n"
     ]
    },
    {
     "name": "stdout",
     "output_type": "stream",
     "text": [
      "Epoch 76/100\n",
      "4/4 [==============================] - 0s 289us/step - loss: 0.2199 - binary_accuracy: 0.7500\n",
      "Epoch 77/100\n",
      "4/4 [==============================] - 0s 311us/step - loss: 0.2196 - binary_accuracy: 0.7500\n",
      "Epoch 78/100\n",
      "4/4 [==============================] - 0s 300us/step - loss: 0.2192 - binary_accuracy: 0.7500\n",
      "Epoch 79/100\n",
      "4/4 [==============================] - 0s 440us/step - loss: 0.2189 - binary_accuracy: 0.7500\n",
      "Epoch 80/100\n",
      "4/4 [==============================] - 0s 363us/step - loss: 0.2185 - binary_accuracy: 0.7500\n",
      "Epoch 81/100\n",
      "4/4 [==============================] - 0s 281us/step - loss: 0.2181 - binary_accuracy: 0.7500\n",
      "Epoch 82/100\n",
      "4/4 [==============================] - 0s 897us/step - loss: 0.2178 - binary_accuracy: 0.7500\n",
      "Epoch 83/100\n",
      "4/4 [==============================] - 0s 616us/step - loss: 0.2174 - binary_accuracy: 0.7500\n",
      "Epoch 84/100\n",
      "4/4 [==============================] - 0s 318us/step - loss: 0.2171 - binary_accuracy: 0.7500\n",
      "Epoch 85/100\n",
      "4/4 [==============================] - 0s 315us/step - loss: 0.2167 - binary_accuracy: 0.7500\n",
      "Epoch 86/100\n",
      "4/4 [==============================] - 0s 339us/step - loss: 0.2164 - binary_accuracy: 0.7500\n",
      "Epoch 87/100\n",
      "4/4 [==============================] - 0s 348us/step - loss: 0.2160 - binary_accuracy: 0.7500\n",
      "Epoch 88/100\n",
      "4/4 [==============================] - 0s 565us/step - loss: 0.2157 - binary_accuracy: 0.7500\n",
      "Epoch 89/100\n",
      "4/4 [==============================] - 0s 335us/step - loss: 0.2153 - binary_accuracy: 0.7500\n",
      "Epoch 90/100\n",
      "4/4 [==============================] - 0s 762us/step - loss: 0.2149 - binary_accuracy: 0.7500\n",
      "Epoch 91/100\n",
      "4/4 [==============================] - 0s 547us/step - loss: 0.2146 - binary_accuracy: 0.7500\n",
      "Epoch 92/100\n",
      "4/4 [==============================] - 0s 390us/step - loss: 0.2142 - binary_accuracy: 0.7500\n",
      "Epoch 93/100\n",
      "4/4 [==============================] - 0s 368us/step - loss: 0.2138 - binary_accuracy: 0.7500\n",
      "Epoch 94/100\n",
      "4/4 [==============================] - 0s 717us/step - loss: 0.2135 - binary_accuracy: 0.7500\n",
      "Epoch 95/100\n",
      "4/4 [==============================] - 0s 394us/step - loss: 0.2131 - binary_accuracy: 0.7500\n",
      "Epoch 96/100\n",
      "4/4 [==============================] - 0s 482us/step - loss: 0.2127 - binary_accuracy: 0.7500\n",
      "Epoch 97/100\n",
      "4/4 [==============================] - 0s 569us/step - loss: 0.2124 - binary_accuracy: 0.7500\n",
      "Epoch 98/100\n",
      "4/4 [==============================] - 0s 338us/step - loss: 0.2120 - binary_accuracy: 0.7500\n",
      "Epoch 99/100\n",
      "4/4 [==============================] - 0s 255us/step - loss: 0.2116 - binary_accuracy: 0.7500\n",
      "Epoch 100/100\n",
      "4/4 [==============================] - 0s 252us/step - loss: 0.2113 - binary_accuracy: 0.7500\n"
     ]
    }
   ],
   "source": [
    "_ = model.fit(training_data,\n",
    "              target_data, epochs=100)"
   ]
  },
  {
   "cell_type": "code",
   "execution_count": 7,
   "metadata": {},
   "outputs": [
    {
     "name": "stdout",
     "output_type": "stream",
     "text": [
      "\r",
      "4/4 [==============================] - 0s 5ms/step\n"
     ]
    }
   ],
   "source": [
    "loss, accuracy = model.evaluate(training_data, target_data)"
   ]
  },
  {
   "cell_type": "code",
   "execution_count": 8,
   "metadata": {},
   "outputs": [
    {
     "data": {
      "text/plain": [
       "0.75"
      ]
     },
     "execution_count": 8,
     "metadata": {},
     "output_type": "execute_result"
    }
   ],
   "source": [
    "accuracy"
   ]
  },
  {
   "cell_type": "markdown",
   "metadata": {},
   "source": [
    "# Save the Model Weights"
   ]
  },
  {
   "cell_type": "code",
   "execution_count": 9,
   "metadata": {},
   "outputs": [],
   "source": [
    "model.save_weights('xor_model')"
   ]
  },
  {
   "cell_type": "markdown",
   "metadata": {},
   "source": [
    "# To load the save the model"
   ]
  },
  {
   "cell_type": "code",
   "execution_count": 12,
   "metadata": {},
   "outputs": [],
   "source": [
    "new_model = Sequential()\n",
    "new_model.add(Dense(16, input_dim=2, activation='relu'))\n",
    "new_model.add(Dense(1,activation='sigmoid'))"
   ]
  },
  {
   "cell_type": "markdown",
   "metadata": {},
   "source": [
    "# Load the Xor Mode Weight"
   ]
  },
  {
   "cell_type": "code",
   "execution_count": 13,
   "metadata": {},
   "outputs": [],
   "source": [
    "new_model.load_weights('xor_model')"
   ]
  },
  {
   "cell_type": "code",
   "execution_count": null,
   "metadata": {},
   "outputs": [],
   "source": []
  }
 ],
 "metadata": {
  "kernelspec": {
   "display_name": "Python 3",
   "language": "python",
   "name": "python3"
  },
  "language_info": {
   "codemirror_mode": {
    "name": "ipython",
    "version": 3
   },
   "file_extension": ".py",
   "mimetype": "text/x-python",
   "name": "python",
   "nbconvert_exporter": "python",
   "pygments_lexer": "ipython3",
   "version": "3.7.5"
  }
 },
 "nbformat": 4,
 "nbformat_minor": 4
}
