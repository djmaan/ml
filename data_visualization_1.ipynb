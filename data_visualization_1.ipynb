{
  "nbformat": 4,
  "nbformat_minor": 0,
  "metadata": {
    "colab": {
      "name": "data_visualization_1.ipynb",
      "version": "0.3.2",
      "provenance": []
    },
    "kernelspec": {
      "name": "python3",
      "display_name": "Python 3"
    }
  },
  "cells": [
    {
      "cell_type": "code",
      "metadata": {
        "id": "O-eycn7jxRYx",
        "colab_type": "code",
        "colab": {}
      },
      "source": [
        "import os, sys\n",
        "import matplotlib\n",
        "from matplotlib import cm\n",
        "from matplotlib import pyplot as plt\n",
        "import numpy as np\n",
        "from matplotlib.patches import Circle, Wedge, Rectangle\n",
        "import time\n",
        "import requests"
      ],
      "execution_count": 0,
      "outputs": []
    },
    {
      "cell_type": "code",
      "metadata": {
        "id": "HRvlmlLNxldn",
        "colab_type": "code",
        "colab": {}
      },
      "source": [
        "def degree_range(n): \n",
        "    start = np.linspace(0,180,n+1, endpoint=True)[0:-1]\n",
        "    end = np.linspace(0,180,n+1, endpoint=True)[1::]\n",
        "    mid_points = start + ((end-start)/2.)\n",
        "    return np.c_[start, end], mid_points"
      ],
      "execution_count": 0,
      "outputs": []
    },
    {
      "cell_type": "code",
      "metadata": {
        "id": "zxVbajwOxmdQ",
        "colab_type": "code",
        "colab": {}
      },
      "source": [
        "def rot_text(ang): \n",
        "    rotation = np.degrees(np.radians(ang) * np.pi / np.pi - np.radians(90))\n",
        "    return rotation"
      ],
      "execution_count": 0,
      "outputs": []
    },
    {
      "cell_type": "code",
      "metadata": {
        "id": "6vn5gCQ8yWZn",
        "colab_type": "code",
        "colab": {}
      },
      "source": [
        "def gauge(labels=['LOW','MEDIUM','HIGH','VERY HIGH','EXTREME'], \\\n",
        "          colors='jet_r', arrow=1, title='', fname=False): \n",
        "    \n",
        "    \"\"\"\n",
        "    some sanity checks first\n",
        "    \n",
        "    \"\"\"\n",
        "    \n",
        "    N = len(labels)\n",
        "    \n",
        "    if arrow > N: \n",
        "        raise Exception(\"\\n\\nThe category ({}) is greated than \\\n",
        "        the length\\nof the labels ({})\".format(arrow, N))\n",
        " \n",
        "    \n",
        "    \"\"\"\n",
        "    if colors is a string, we assume it's a matplotlib colormap\n",
        "    and we discretize in N discrete colors \n",
        "    \"\"\"\n",
        "    \n",
        "    if isinstance(colors, str):\n",
        "        cmap = cm.get_cmap(colors, N)\n",
        "        cmap = cmap(np.arange(N))\n",
        "        colors = cmap[::-1,:].tolist()\n",
        "    if isinstance(colors, list): \n",
        "        if len(colors) == N:\n",
        "            colors = colors[::-1]\n",
        "        else: \n",
        "            raise Exception(\"\\n\\nnumber of colors {} not equal \\\n",
        "            to number of categories{}\\n\".format(len(colors), N))\n",
        "\n",
        "    \"\"\"\n",
        "    begins the plotting\n",
        "    \"\"\"\n",
        "    \n",
        "    fig, ax = plt.subplots()\n",
        "\n",
        "    ang_range, mid_points = degree_range(N)\n",
        "\n",
        "    labels = labels[::-1]\n",
        "    \n",
        "    \"\"\"\n",
        "    plots the sectors and the arcs\n",
        "    \"\"\"\n",
        "    patches = []\n",
        "    for ang, c in zip(ang_range, colors): \n",
        "        # sectors\n",
        "        patches.append(Wedge((0.,0.), .4, *ang, facecolor='w', lw=2))\n",
        "        # arcs\n",
        "        patches.append(Wedge((0.,0.), .4, *ang, width=0.10, facecolor=c, lw=2, alpha=0.5))\n",
        "    \n",
        "    [ax.add_patch(p) for p in patches]\n",
        "    \n",
        "     \n",
        "    \"\"\"\n",
        "    set the labels (e.g. 'LOW','MEDIUM',...)\n",
        "    \"\"\"\n",
        "\n",
        "    for mid, lab in zip(mid_points, labels): \n",
        "\n",
        "        ax.text(0.35 * np.cos(np.radians(mid)), 0.35 * np.sin(np.radians(mid)), lab, \\\n",
        "            horizontalalignment='center', verticalalignment='center', fontsize=14, \\\n",
        "            fontweight='bold', rotation = rot_text(mid))\n",
        "\n",
        "    \"\"\"\n",
        "    set the bottom banner and the title\n",
        "    \"\"\"\n",
        "    r = Rectangle((-0.4,-0.1),0.8,0.1, facecolor='w', lw=2)\n",
        "    ax.add_patch(r)\n",
        "    \n",
        "    ax.text(0, -0.05, title, horizontalalignment='center', \\\n",
        "         verticalalignment='center', fontsize=22, fontweight='bold')\n",
        "\n",
        "    \"\"\"\n",
        "    plots the arrow now\n",
        "    \"\"\"\n",
        "    \n",
        "    pos = mid_points[abs(arrow - N)]\n",
        "    \n",
        "    ax.arrow(0, 0, 0.225 * np.cos(np.radians(pos)), 0.225 * np.sin(np.radians(pos)), \\\n",
        "                 width=0.04, head_width=0.09, head_length=0.1, fc='k', ec='k')\n",
        "    \n",
        "    ax.add_patch(Circle((0, 0), radius=0.02, facecolor='k'))\n",
        "    ax.add_patch(Circle((0, 0), radius=0.01, facecolor='w', zorder=11))\n",
        "\n",
        "    \"\"\"\n",
        "    removes frame and ticks, and makes axis equal and tight\n",
        "    \"\"\"\n",
        "    \n",
        "    ax.set_frame_on(False)\n",
        "    ax.axes.set_xticks([])\n",
        "    ax.axes.set_yticks([])\n",
        "    ax.axis('equal')\n",
        "    plt.tight_layout()\n",
        "    if fname:\n",
        "        fig.savefig(fname, dpi=200)\n"
      ],
      "execution_count": 0,
      "outputs": []
    },
    {
      "cell_type": "code",
      "metadata": {
        "id": "rPQL53B9y-Yv",
        "colab_type": "code",
        "colab": {}
      },
      "source": [
        "def downspeed():\n",
        "  \n",
        "    url = input(\"Enter complete URL of site for which you want to perform speed test \\n\")\n",
        "\n",
        "    start = time.time()\n",
        "    file = requests.get(url)\n",
        "    end = time.time()\n",
        "\n",
        "    time_difference = end - start\n",
        "    return time_difference"
      ],
      "execution_count": 0,
      "outputs": []
    },
    {
      "cell_type": "code",
      "metadata": {
        "id": "CwcyAEvGzJIM",
        "colab_type": "code",
        "colab": {
          "base_uri": "https://localhost:8080/",
          "height": 51
        },
        "outputId": "d94e8c81-fd06-461e-d8ce-fc96c4984b81"
      },
      "source": [
        "speed=downspeed()"
      ],
      "execution_count": 14,
      "outputs": [
        {
          "output_type": "stream",
          "text": [
            "Enter complete URL of site for which you want to perform speed test \n",
            "https://www.google.com/\n"
          ],
          "name": "stdout"
        }
      ]
    },
    {
      "cell_type": "code",
      "metadata": {
        "id": "NR6xe9UNzdFN",
        "colab_type": "code",
        "colab": {
          "base_uri": "https://localhost:8080/",
          "height": 331
        },
        "outputId": "89c494d3-9262-4b2b-e036-dc5b133c218a"
      },
      "source": [
        "td=speed\n",
        "num=0\n",
        "if td>=0.0 and td<2.0:\n",
        "    num=1\n",
        "elif td>=2.0 and td<4.0:\n",
        "    num=3\n",
        "elif td>=4.0 and td<6.0:\n",
        "    num=5\n",
        "elif td>=6.0 and td<8.0:\n",
        "    num=7\n",
        "elif td>=8.0 and td<10.0:\n",
        "    num=9\n",
        "elif td>10:\n",
        "    num=10\n",
        "else:\n",
        "    num=0\n",
        "print(\"Downspeed in KB per second :\")\n",
        "print(speed)  \n",
        "#print(num)\n",
        "gauge(labels=['1','2','3','4','5','6','7','8','9','10'], \\\n",
        "      colors='RdBu', arrow=int(num), title='Website Speed Tracker')"
      ],
      "execution_count": 15,
      "outputs": [
        {
          "output_type": "stream",
          "text": [
            "Downspeed in KB per second :\n",
            "0.061287879943847656\n"
          ],
          "name": "stdout"
        },
        {
          "output_type": "display_data",
          "data": {
            "image/png": "[encoded data removed]",
            "text/plain": [
              "<Figure size 432x288 with 1 Axes>"
            ]
          },
          "metadata": {
            "tags": []
          }
        }
      ]
    },
    {
      "cell_type": "code",
      "metadata": {
        "id": "WC_D8LOy0DFi",
        "colab_type": "code",
        "colab": {}
      },
      "source": [
        ""
      ],
      "execution_count": 0,
      "outputs": []
    }
  ]
}