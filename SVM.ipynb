{
  "nbformat": 4,
  "nbformat_minor": 0,
  "metadata": {
    "colab": {
      "name": "SVM.ipynb",
      "version": "0.3.2",
      "provenance": []
    },
    "kernelspec": {
      "name": "python3",
      "display_name": "Python 3"
    }
  },
  "cells": [
    {
      "cell_type": "code",
      "metadata": {
        "id": "7KX8n_c-LDpm",
        "colab_type": "code",
        "colab": {}
      },
      "source": [
        "from sklearn.datasets import load_digits\n"
      ],
      "execution_count": 0,
      "outputs": []
    },
    {
      "cell_type": "code",
      "metadata": {
        "id": "q3rJxXYhMJge",
        "colab_type": "code",
        "colab": {}
      },
      "source": [
        "# loading digit data\n",
        "digit=load_digits()\n"
      ],
      "execution_count": 0,
      "outputs": []
    },
    {
      "cell_type": "code",
      "metadata": {
        "id": "TxW6bFjTMYVA",
        "colab_type": "code",
        "outputId": "c3276bdc-cfb6-4a96-bc01-3661d3bee2c5",
        "colab": {
          "base_uri": "https://localhost:8080/",
          "height": 34
        }
      },
      "source": [
        "# desc\n",
        "dir(digit)"
      ],
      "execution_count": 0,
      "outputs": [
        {
          "output_type": "execute_result",
          "data": {
            "text/plain": [
              "['DESCR', 'data', 'images', 'target', 'target_names']"
            ]
          },
          "metadata": {
            "tags": []
          },
          "execution_count": 3
        }
      ]
    },
    {
      "cell_type": "code",
      "metadata": {
        "id": "l95YD-t0MdqB",
        "colab_type": "code",
        "colab": {}
      },
      "source": [
        "# features\n",
        "features=digit.data"
      ],
      "execution_count": 0,
      "outputs": []
    },
    {
      "cell_type": "code",
      "metadata": {
        "id": "Aln3hUeVMmIH",
        "colab_type": "code",
        "colab": {}
      },
      "source": [
        "# label\n",
        "label=digit.target"
      ],
      "execution_count": 0,
      "outputs": []
    },
    {
      "cell_type": "code",
      "metadata": {
        "id": "ega3jIWsMsEi",
        "colab_type": "code",
        "colab": {}
      },
      "source": [
        "# training and testing\n",
        "from sklearn.model_selection import train_test_split\n",
        "X,x,Y,y=train_test_split(features,label,test_size=0.2)"
      ],
      "execution_count": 0,
      "outputs": []
    },
    {
      "cell_type": "code",
      "metadata": {
        "id": "0fN3b_LINO1Z",
        "colab_type": "code",
        "colab": {}
      },
      "source": [
        "# data visualize\n",
        "import matplotlib.pyplot as plt"
      ],
      "execution_count": 0,
      "outputs": []
    },
    {
      "cell_type": "code",
      "metadata": {
        "id": "xM7UhdcgNqDj",
        "colab_type": "code",
        "outputId": "e9eb00b9-e542-4686-9a47-60dce5de10f4",
        "colab": {
          "base_uri": "https://localhost:8080/",
          "height": 286
        }
      },
      "source": [
        "plt.imshow(digit.images[0])"
      ],
      "execution_count": 0,
      "outputs": [
        {
          "output_type": "execute_result",
          "data": {
            "text/plain": [
              "<matplotlib.image.AxesImage at 0x7ff12b694240>"
            ]
          },
          "metadata": {
            "tags": []
          },
          "execution_count": 9
        },
        {
          "output_type": "display_data",
          "data": {
            "image/png": "[encoded data removed]",
            "text/plain": [
              "<Figure size 432x288 with 1 Axes>"
            ]
          },
          "metadata": {
            "tags": []
          }
        }
      ]
    },
    {
      "cell_type": "code",
      "metadata": {
        "id": "hkdFXMCNNYCZ",
        "colab_type": "code",
        "colab": {}
      },
      "source": [
        "# now calling svc\n",
        "from sklearn.svm import SVC"
      ],
      "execution_count": 0,
      "outputs": []
    },
    {
      "cell_type": "code",
      "metadata": {
        "id": "R8TKNRbdNi-d",
        "colab_type": "code",
        "colab": {}
      },
      "source": [
        "# Calling classifier\n",
        "clf=SVC()"
      ],
      "execution_count": 0,
      "outputs": []
    },
    {
      "cell_type": "code",
      "metadata": {
        "id": "uFrStn4WOagm",
        "colab_type": "code",
        "outputId": "05d19a8f-46ba-4cc9-c9dd-58ccddb0eca6",
        "colab": {
          "base_uri": "https://localhost:8080/",
          "height": 71
        }
      },
      "source": [
        "# now training my clf\n",
        "trained=clf.fit(X,Y)\n"
      ],
      "execution_count": 0,
      "outputs": [
        {
          "output_type": "stream",
          "text": [
            "/usr/local/lib/python3.6/dist-packages/sklearn/svm/base.py:193: FutureWarning: The default value of gamma will change from 'auto' to 'scale' in version 0.22 to account better for unscaled features. Set gamma explicitly to 'auto' or 'scale' to avoid this warning.\n",
            "  \"avoid this warning.\", FutureWarning)\n"
          ],
          "name": "stderr"
        }
      ]
    },
    {
      "cell_type": "code",
      "metadata": {
        "id": "01YPgGlbPLwW",
        "colab_type": "code",
        "colab": {}
      },
      "source": [
        "# now time for prediction\n",
        "output=trained.predict(x)"
      ],
      "execution_count": 0,
      "outputs": []
    },
    {
      "cell_type": "code",
      "metadata": {
        "id": "VIjrJvgSPcUX",
        "colab_type": "code",
        "outputId": "5a0dc846-ccc4-4f27-d8f2-09425adea94f",
        "colab": {
          "base_uri": "https://localhost:8080/",
          "height": 306
        }
      },
      "source": [
        "output"
      ],
      "execution_count": 0,
      "outputs": [
        {
          "output_type": "execute_result",
          "data": {
            "text/plain": [
              "array([5, 5, 5, 7, 1, 4, 6, 5, 9, 2, 5, 5, 5, 1, 5, 0, 6, 5, 6, 3, 5, 6,\n",
              "       5, 8, 5, 6, 7, 5, 5, 5, 3, 9, 7, 0, 5, 8, 5, 5, 5, 5, 5, 1, 1, 1,\n",
              "       5, 5, 9, 7, 5, 4, 3, 5, 1, 6, 7, 0, 5, 5, 0, 5, 5, 3, 1, 9, 6, 5,\n",
              "       5, 3, 1, 5, 3, 5, 5, 7, 0, 0, 6, 3, 7, 6, 0, 6, 2, 5, 5, 4, 0, 5,\n",
              "       4, 2, 5, 7, 3, 9, 5, 5, 4, 1, 5, 9, 2, 5, 3, 5, 3, 7, 7, 5, 5, 5,\n",
              "       9, 3, 0, 5, 5, 5, 5, 5, 5, 5, 3, 3, 5, 5, 4, 2, 4, 2, 5, 3, 9, 5,\n",
              "       9, 5, 5, 5, 5, 3, 3, 5, 5, 5, 5, 5, 1, 4, 5, 0, 3, 3, 9, 5, 5, 5,\n",
              "       5, 5, 2, 3, 5, 5, 7, 5, 5, 5, 4, 5, 7, 9, 6, 8, 5, 5, 7, 5, 5, 5,\n",
              "       5, 5, 5, 5, 0, 5, 5, 0, 8, 5, 9, 5, 5, 5, 5, 8, 5, 1, 9, 5, 9, 5,\n",
              "       3, 5, 3, 6, 6, 5, 1, 4, 5, 5, 5, 5, 1, 7, 5, 5, 5, 5, 9, 5, 4, 5,\n",
              "       5, 5, 7, 4, 5, 2, 5, 5, 0, 5, 5, 5, 3, 4, 5, 5, 1, 5, 3, 5, 5, 7,\n",
              "       7, 5, 9, 3, 0, 1, 5, 2, 1, 5, 5, 5, 5, 8, 5, 5, 9, 5, 5, 5, 8, 6,\n",
              "       2, 0, 6, 7, 8, 9, 0, 3, 5, 3, 6, 7, 5, 4, 5, 5, 5, 5, 5, 9, 5, 3,\n",
              "       3, 5, 5, 1, 3, 3, 0, 4, 5, 5, 4, 5, 1, 5, 5, 5, 1, 5, 1, 5, 5, 8,\n",
              "       2, 5, 7, 5, 8, 5, 1, 5, 5, 5, 5, 4, 3, 9, 3, 6, 1, 7, 6, 4, 5, 6,\n",
              "       7, 5, 5, 5, 7, 5, 5, 5, 5, 5, 0, 5, 6, 5, 5, 5, 7, 5, 2, 9, 5, 6,\n",
              "       5, 3, 4, 5, 5, 5, 1, 5])"
            ]
          },
          "metadata": {
            "tags": []
          },
          "execution_count": 16
        }
      ]
    },
    {
      "cell_type": "code",
      "metadata": {
        "id": "BwfYf9E-Pe4x",
        "colab_type": "code",
        "outputId": "27332140-0d0f-4220-8411-a91e8c6eb147",
        "colab": {
          "base_uri": "https://localhost:8080/",
          "height": 306
        }
      },
      "source": [
        "y"
      ],
      "execution_count": 0,
      "outputs": [
        {
          "output_type": "execute_result",
          "data": {
            "text/plain": [
              "array([5, 0, 5, 7, 1, 4, 6, 3, 9, 2, 5, 1, 0, 1, 2, 0, 6, 9, 6, 3, 5, 6,\n",
              "       8, 8, 2, 6, 7, 6, 5, 5, 3, 9, 7, 0, 8, 8, 0, 5, 8, 7, 5, 1, 1, 1,\n",
              "       8, 0, 9, 7, 4, 4, 3, 1, 1, 6, 7, 0, 5, 5, 0, 4, 5, 3, 1, 9, 6, 8,\n",
              "       5, 3, 1, 5, 3, 5, 7, 7, 0, 0, 6, 3, 7, 6, 0, 6, 2, 1, 2, 4, 0, 8,\n",
              "       4, 2, 5, 7, 3, 9, 2, 2, 4, 1, 4, 9, 2, 8, 3, 5, 3, 7, 7, 5, 6, 1,\n",
              "       9, 3, 0, 5, 7, 8, 5, 6, 5, 6, 3, 3, 9, 7, 4, 2, 4, 2, 7, 3, 9, 5,\n",
              "       9, 1, 7, 4, 2, 3, 3, 9, 9, 2, 4, 8, 1, 4, 5, 0, 3, 3, 9, 8, 2, 9,\n",
              "       9, 0, 2, 3, 2, 0, 7, 5, 9, 2, 4, 8, 7, 9, 6, 8, 5, 2, 7, 2, 7, 7,\n",
              "       5, 2, 1, 2, 0, 4, 9, 0, 8, 4, 9, 2, 3, 9, 0, 8, 2, 1, 9, 3, 9, 5,\n",
              "       3, 0, 3, 6, 6, 4, 1, 4, 8, 1, 1, 2, 1, 7, 0, 5, 2, 5, 9, 8, 4, 5,\n",
              "       8, 8, 7, 4, 8, 2, 9, 5, 0, 0, 1, 0, 3, 4, 1, 0, 1, 8, 3, 1, 8, 7,\n",
              "       7, 1, 9, 3, 0, 1, 1, 2, 1, 6, 2, 5, 0, 8, 6, 1, 9, 5, 1, 5, 8, 6,\n",
              "       2, 0, 6, 7, 8, 9, 0, 3, 8, 3, 6, 7, 5, 4, 0, 7, 5, 2, 1, 9, 4, 3,\n",
              "       3, 8, 1, 1, 3, 3, 0, 4, 0, 0, 4, 7, 1, 9, 1, 7, 1, 5, 1, 7, 4, 8,\n",
              "       2, 9, 7, 1, 8, 6, 1, 5, 2, 8, 1, 4, 3, 9, 3, 6, 1, 7, 6, 4, 0, 6,\n",
              "       7, 6, 6, 4, 7, 4, 0, 6, 4, 2, 0, 3, 6, 8, 4, 9, 7, 8, 2, 9, 4, 6,\n",
              "       9, 3, 4, 9, 9, 4, 1, 2])"
            ]
          },
          "metadata": {
            "tags": []
          },
          "execution_count": 17
        }
      ]
    },
    {
      "cell_type": "code",
      "metadata": {
        "id": "rJqfbsbmPgWn",
        "colab_type": "code",
        "colab": {}
      },
      "source": [
        "from sklearn.metrics import accuracy_score\n"
      ],
      "execution_count": 0,
      "outputs": []
    },
    {
      "cell_type": "code",
      "metadata": {
        "id": "-BBO5aXKPnxR",
        "colab_type": "code",
        "outputId": "85510f91-13d1-4fb6-d21c-b76069e413b2",
        "colab": {
          "base_uri": "https://localhost:8080/",
          "height": 34
        }
      },
      "source": [
        "accuracy_score(output,y)"
      ],
      "execution_count": 0,
      "outputs": [
        {
          "output_type": "execute_result",
          "data": {
            "text/plain": [
              "0.6055555555555555"
            ]
          },
          "metadata": {
            "tags": []
          },
          "execution_count": 20
        }
      ]
    },
    {
      "cell_type": "code",
      "metadata": {
        "id": "8_FGb2dEPr25",
        "colab_type": "code",
        "colab": {}
      },
      "source": [
        ""
      ],
      "execution_count": 0,
      "outputs": []
    }
  ]
}